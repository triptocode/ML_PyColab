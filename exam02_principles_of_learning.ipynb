{
  "nbformat": 4,
  "nbformat_minor": 0,
  "metadata": {
    "colab": {
      "provenance": []
    },
    "kernelspec": {
      "name": "python3",
      "display_name": "Python 3"
    },
    "language_info": {
      "name": "python"
    }
  },
  "cells": [
    {
      "cell_type": "markdown",
      "source": [
        "#그래프 연산"
      ],
      "metadata": {
        "id": "-f9mWIaiDUX5"
      }
    },
    {
      "cell_type": "code",
      "execution_count": null,
      "metadata": {
        "id": "IpUFav4qDChi"
      },
      "outputs": [],
      "source": [
        "class add_graph:\n",
        "    def __init__(self):\n",
        "        pass\n",
        "    def forward(self, x, y):\n",
        "        out = x + y\n",
        "        return out\n",
        "    def backward(self, dout):\n",
        "        dx = 1 * dout\n",
        "        dy = 1 * dout\n",
        "        return dx, dy"
      ]
    },
    {
      "cell_type": "code",
      "source": [
        "class mul_graph:\n",
        "    def __init__(self):\n",
        "        self.x = None\n",
        "        self.y = None\n",
        "\n",
        "    def forward(self, x, y):\n",
        "        self.x = x\n",
        "        self.y = y\n",
        "        out = x * y\n",
        "        return out\n",
        "    def backward(self, dout):\n",
        "        dx = self.y * dout\n",
        "        dy = self.x * dout\n",
        "        return dx, dy"
      ],
      "metadata": {
        "id": "6iy9u0ZyEVht"
      },
      "execution_count": null,
      "outputs": []
    },
    {
      "cell_type": "code",
      "source": [
        "class mse_graph:\n",
        "    def __init__(self):\n",
        "        self.loss = None\n",
        "        self.y = None\n",
        "        self.x = None\n",
        "        self.t = None\n",
        "    def forward(self, y, t):\n",
        "        self.t = t\n",
        "        self.y = y\n",
        "        self.loss = np.square(self.t - self.y).sum() / self.t.shape[0]\n",
        "        return self.loss\n",
        "    def backward(self, x, dout = 1):\n",
        "        data_size = self.t.shape[0]\n",
        "        dweight_mse = ((self.y - self.t) * x).sum() * 2 /data_size\n",
        "        dbias_mse = (self.y - self.t).sum() * 2 / data_size\n",
        "        return dweight_mse, dbias_mse"
      ],
      "metadata": {
        "id": "KORYbM7wXcaK"
      },
      "execution_count": null,
      "outputs": []
    },
    {
      "cell_type": "code",
      "source": [
        "apple = 100\n",
        "apple_num = 2\n",
        "orange = 150\n",
        "orange_num = 3\n",
        "tax = 1.1"
      ],
      "metadata": {
        "id": "SmwxcgW6EvMz"
      },
      "execution_count": null,
      "outputs": []
    },
    {
      "cell_type": "code",
      "source": [
        "mul_apple_graph = mul_graph()\n",
        "mul_orange_graph = mul_graph()\n",
        "add_apple_orange_graph = add_graph()\n",
        "mul_tax_graph = mul_graph()"
      ],
      "metadata": {
        "id": "BCyCA0fMFABr"
      },
      "execution_count": null,
      "outputs": []
    },
    {
      "cell_type": "code",
      "source": [
        "apple_price = mul_apple_graph.forward(apple, apple_num)\n",
        "orange_price = mul_orange_graph.forward(orange, orange_num)\n",
        "all_price = add_apple_orange_graph.forward(apple_price, orange_price)\n",
        "total_price = mul_tax_graph.forward(all_price, tax)\n",
        "print(total_price)"
      ],
      "metadata": {
        "colab": {
          "base_uri": "https://localhost:8080/"
        },
        "id": "0BuTT8PdFYhb",
        "outputId": "ad3f4a6a-5020-4ed6-f6cb-fe573428625e"
      },
      "execution_count": null,
      "outputs": [
        {
          "output_type": "stream",
          "name": "stdout",
          "text": [
            "715.0000000000001\n"
          ]
        }
      ]
    },
    {
      "cell_type": "code",
      "source": [
        "dprice = 1\n",
        "dall_price, dtax = mul_tax_graph.backward(dprice)\n",
        "dapple_price, dorange_price = add_apple_orange_graph.backward(dall_price)\n",
        "dorange, dorange_num = mul_orange_graph.backward(dorange_price)\n",
        "dapple, dapple_num = mul_apple_graph.backward(dapple_price)\n",
        "print('dApple', dapple)\n",
        "print('dApple_num', dapple_num)\n",
        "print('dOrange', dorange)\n",
        "print('dOrange_num', dorange_num)"
      ],
      "metadata": {
        "colab": {
          "base_uri": "https://localhost:8080/"
        },
        "id": "fNS5UmeqJCmd",
        "outputId": "0d98533f-c9f1-4b12-81d4-2a4e45960df6"
      },
      "execution_count": null,
      "outputs": [
        {
          "output_type": "stream",
          "name": "stdout",
          "text": [
            "dApple 2.2\n",
            "dApple_num 110.00000000000001\n",
            "dOrange 3.3000000000000003\n",
            "dOrange_num 165.0\n"
          ]
        }
      ]
    },
    {
      "cell_type": "code",
      "source": [
        "import numpy as np"
      ],
      "metadata": {
        "id": "R8fP7V_VPPdc"
      },
      "execution_count": null,
      "outputs": []
    },
    {
      "cell_type": "code",
      "source": [
        "def celcius_to_fahrenheit(x):\n",
        "    return x * 1.8 + 32"
      ],
      "metadata": {
        "id": "xalKknI5bT3_"
      },
      "execution_count": null,
      "outputs": []
    },
    {
      "cell_type": "code",
      "source": [
        "weight = np.random.uniform(0, 5, 1)\n",
        "print(weight)\n",
        "bias = 0\n",
        "print(bias)\n",
        "data_C = np.arange(1, 100)\n",
        "data_F = celcius_to_fahrenheit(data_C)\n",
        "scaled_data_C = data_C / 100\n",
        "scaled_data_F = data_F / 100\n",
        "print(scaled_data_C)\n",
        "print(scaled_data_F)"
      ],
      "metadata": {
        "colab": {
          "base_uri": "https://localhost:8080/"
        },
        "id": "dgVm1O1abcGP",
        "outputId": "a6c9a8af-1f90-4354-a805-b0f8c379bf1c"
      },
      "execution_count": null,
      "outputs": [
        {
          "output_type": "stream",
          "name": "stdout",
          "text": [
            "[4.76858778]\n",
            "0\n",
            "[0.01 0.02 0.03 0.04 0.05 0.06 0.07 0.08 0.09 0.1  0.11 0.12 0.13 0.14\n",
            " 0.15 0.16 0.17 0.18 0.19 0.2  0.21 0.22 0.23 0.24 0.25 0.26 0.27 0.28\n",
            " 0.29 0.3  0.31 0.32 0.33 0.34 0.35 0.36 0.37 0.38 0.39 0.4  0.41 0.42\n",
            " 0.43 0.44 0.45 0.46 0.47 0.48 0.49 0.5  0.51 0.52 0.53 0.54 0.55 0.56\n",
            " 0.57 0.58 0.59 0.6  0.61 0.62 0.63 0.64 0.65 0.66 0.67 0.68 0.69 0.7\n",
            " 0.71 0.72 0.73 0.74 0.75 0.76 0.77 0.78 0.79 0.8  0.81 0.82 0.83 0.84\n",
            " 0.85 0.86 0.87 0.88 0.89 0.9  0.91 0.92 0.93 0.94 0.95 0.96 0.97 0.98\n",
            " 0.99]\n",
            "[0.338 0.356 0.374 0.392 0.41  0.428 0.446 0.464 0.482 0.5   0.518 0.536\n",
            " 0.554 0.572 0.59  0.608 0.626 0.644 0.662 0.68  0.698 0.716 0.734 0.752\n",
            " 0.77  0.788 0.806 0.824 0.842 0.86  0.878 0.896 0.914 0.932 0.95  0.968\n",
            " 0.986 1.004 1.022 1.04  1.058 1.076 1.094 1.112 1.13  1.148 1.166 1.184\n",
            " 1.202 1.22  1.238 1.256 1.274 1.292 1.31  1.328 1.346 1.364 1.382 1.4\n",
            " 1.418 1.436 1.454 1.472 1.49  1.508 1.526 1.544 1.562 1.58  1.598 1.616\n",
            " 1.634 1.652 1.67  1.688 1.706 1.724 1.742 1.76  1.778 1.796 1.814 1.832\n",
            " 1.85  1.868 1.886 1.904 1.922 1.94  1.958 1.976 1.994 2.012 2.03  2.048\n",
            " 2.066 2.084 2.102]\n"
          ]
        }
      ]
    },
    {
      "cell_type": "code",
      "source": [
        "weight_graph = mul_graph()\n",
        "bias_graph = add_graph()"
      ],
      "metadata": {
        "id": "8Wa940sabt4l"
      },
      "execution_count": null,
      "outputs": []
    },
    {
      "cell_type": "code",
      "source": [
        "weighted_data = weight_graph.forward(weight, scaled_data_C)\n",
        "predict_data = bias_graph.forward(weighted_data, bias)\n",
        "print(predict_data)"
      ],
      "metadata": {
        "colab": {
          "base_uri": "https://localhost:8080/"
        },
        "id": "Lfr657Qqcw71",
        "outputId": "213da5cc-3b10-4303-9500-a8716671ef1a"
      },
      "execution_count": null,
      "outputs": [
        {
          "output_type": "stream",
          "name": "stdout",
          "text": [
            "[0.04768588 0.09537176 0.14305763 0.19074351 0.23842939 0.28611527\n",
            " 0.33380114 0.38148702 0.4291729  0.47685878 0.52454466 0.57223053\n",
            " 0.61991641 0.66760229 0.71528817 0.76297405 0.81065992 0.8583458\n",
            " 0.90603168 0.95371756 1.00140343 1.04908931 1.09677519 1.14446107\n",
            " 1.19214695 1.23983282 1.2875187  1.33520458 1.38289046 1.43057634\n",
            " 1.47826221 1.52594809 1.57363397 1.62131985 1.66900572 1.7166916\n",
            " 1.76437748 1.81206336 1.85974924 1.90743511 1.95512099 2.00280687\n",
            " 2.05049275 2.09817863 2.1458645  2.19355038 2.24123626 2.28892214\n",
            " 2.33660801 2.38429389 2.43197977 2.47966565 2.52735153 2.5750374\n",
            " 2.62272328 2.67040916 2.71809504 2.76578091 2.81346679 2.86115267\n",
            " 2.90883855 2.95652443 3.0042103  3.05189618 3.09958206 3.14726794\n",
            " 3.19495382 3.24263969 3.29032557 3.33801145 3.38569733 3.4333832\n",
            " 3.48106908 3.52875496 3.57644084 3.62412672 3.67181259 3.71949847\n",
            " 3.76718435 3.81487023 3.86255611 3.91024198 3.95792786 4.00561374\n",
            " 4.05329962 4.10098549 4.14867137 4.19635725 4.24404313 4.29172901\n",
            " 4.33941488 4.38710076 4.43478664 4.48247252 4.5301584  4.57784427\n",
            " 4.62553015 4.67321603 4.72090191]\n"
          ]
        }
      ]
    },
    {
      "cell_type": "code",
      "source": [
        "dout = 1\n",
        "dbias, dbiased_data = bias_graph.backward(dout)\n",
        "dweight, dscaled_data_C = weight_graph.backward(dbiased_data)\n",
        "print(dbias)\n",
        "print(dweight)"
      ],
      "metadata": {
        "colab": {
          "base_uri": "https://localhost:8080/"
        },
        "id": "DuB4jo9qdS1P",
        "outputId": "cfef06f6-60d4-4f46-8111-48b76e51e2a7"
      },
      "execution_count": null,
      "outputs": [
        {
          "output_type": "stream",
          "name": "stdout",
          "text": [
            "1\n",
            "[0.01 0.02 0.03 0.04 0.05 0.06 0.07 0.08 0.09 0.1  0.11 0.12 0.13 0.14\n",
            " 0.15 0.16 0.17 0.18 0.19 0.2  0.21 0.22 0.23 0.24 0.25 0.26 0.27 0.28\n",
            " 0.29 0.3  0.31 0.32 0.33 0.34 0.35 0.36 0.37 0.38 0.39 0.4  0.41 0.42\n",
            " 0.43 0.44 0.45 0.46 0.47 0.48 0.49 0.5  0.51 0.52 0.53 0.54 0.55 0.56\n",
            " 0.57 0.58 0.59 0.6  0.61 0.62 0.63 0.64 0.65 0.66 0.67 0.68 0.69 0.7\n",
            " 0.71 0.72 0.73 0.74 0.75 0.76 0.77 0.78 0.79 0.8  0.81 0.82 0.83 0.84\n",
            " 0.85 0.86 0.87 0.88 0.89 0.9  0.91 0.92 0.93 0.94 0.95 0.96 0.97 0.98\n",
            " 0.99]\n"
          ]
        }
      ]
    },
    {
      "cell_type": "code",
      "source": [
        "mseGraph = mse_graph()\n",
        "mse = mseGraph.forward(predict_data, scaled_data_F)\n",
        "print(mse)"
      ],
      "metadata": {
        "colab": {
          "base_uri": "https://localhost:8080/"
        },
        "id": "diDOFBj3eDdP",
        "outputId": "61053f4c-fba8-42a9-bb4a-8b8c4762e0fb"
      },
      "execution_count": null,
      "outputs": [
        {
          "output_type": "stream",
          "name": "stdout",
          "text": [
            "2.0752688643948836\n"
          ]
        }
      ]
    },
    {
      "cell_type": "code",
      "source": [
        "weight_mse_gradient, bias_mse_gradient = mseGraph.backward(scaled_data_C)\n",
        "print(weight_mse_gradient)\n",
        "print(bias_mse_gradient)"
      ],
      "metadata": {
        "colab": {
          "base_uri": "https://localhost:8080/"
        },
        "id": "gofqb63YedjW",
        "outputId": "7538040f-107c-48fe-f863-9d8063191814"
      },
      "execution_count": null,
      "outputs": [
        {
          "output_type": "stream",
          "name": "stdout",
          "text": [
            "1.6491632302768613\n",
            "2.328587784336977\n"
          ]
        }
      ]
    },
    {
      "cell_type": "code",
      "source": [
        "learning_rate = 0.1\n",
        "learned_weight = weight - learning_rate \\\n",
        "     * weight_mse_gradient * np.average(dweight)\n",
        "print('before learning weight :', weight)\n",
        "print('after learning weight :', learned_weight)"
      ],
      "metadata": {
        "id": "yO5-XSORe1GO",
        "colab": {
          "base_uri": "https://localhost:8080/"
        },
        "outputId": "96c0957b-1e3e-4920-959f-3945d3530460"
      },
      "execution_count": null,
      "outputs": [
        {
          "output_type": "stream",
          "name": "stdout",
          "text": [
            "before learning weight : [4.76858778]\n",
            "after learning weight : [4.68612962]\n"
          ]
        }
      ]
    },
    {
      "cell_type": "code",
      "source": [
        "learned_bias = bias - learning_rate * bias_mse_gradient * dbias\n",
        "print('before learning bias :', bias)\n",
        "print('after learning bias :', learned_bias)"
      ],
      "metadata": {
        "colab": {
          "base_uri": "https://localhost:8080/"
        },
        "id": "KQRaSaK9Hiym",
        "outputId": "9e7a149e-0a91-4eb6-eddc-889d49acfeed"
      },
      "execution_count": null,
      "outputs": [
        {
          "output_type": "stream",
          "name": "stdout",
          "text": [
            "before learning bias : 0\n",
            "after learning bias : -0.2328587784336977\n"
          ]
        }
      ]
    },
    {
      "cell_type": "code",
      "source": [
        "error_list = []\n",
        "weight_list = []\n",
        "bias_list = []\n",
        "for i in range(1000):\n",
        "    #forward\n",
        "    weighted_data = weight_graph.forward(weight, scaled_data_C)\n",
        "    predicted_data = bias_graph.forward(weighted_data, bias)\n",
        "    #backward\n",
        "    dout = 1\n",
        "    dbias, dbiased_data = bias_graph.backward(dout)\n",
        "    dweight, dscaled_data_C = weight_graph.backward(dbiased_data)\n",
        "    #mse\n",
        "    mse = mseGraph.forward(predicted_data, scaled_data_F)\n",
        "    error_list.append(mse)\n",
        "    weight_mse_gradient, bias_mse_gradient = mseGraph.backward(scaled_data_C)\n",
        "    #learning\n",
        "    weight_list.append(weight)\n",
        "    weight = weight - learning_rate * weight_mse_gradient * np.average(dweight)\n",
        "    bias_list.append(bias)\n",
        "    bias = bias - learning_rate * bias_mse_gradient * dbias\n",
        "weight_list.append(weight)\n",
        "bias_list.append(bias)\n",
        "print(weight)\n",
        "print(bias)"
      ],
      "metadata": {
        "colab": {
          "base_uri": "https://localhost:8080/"
        },
        "id": "EFgVzDj9KOOT",
        "outputId": "09fcea36-5e10-4d75-812d-d1b0bb23814c"
      },
      "execution_count": null,
      "outputs": [
        {
          "output_type": "stream",
          "name": "stdout",
          "text": [
            "[1.80189987]\n",
            "0.31901444022065273\n"
          ]
        }
      ]
    },
    {
      "cell_type": "code",
      "source": [
        "print(error_list[-1])"
      ],
      "metadata": {
        "colab": {
          "base_uri": "https://localhost:8080/"
        },
        "id": "FK8c164nVNm7",
        "outputId": "c72920fe-df30-4f21-b240-4925120a0d43"
      },
      "execution_count": null,
      "outputs": [
        {
          "output_type": "stream",
          "name": "stdout",
          "text": [
            "3.003732049543275e-07\n"
          ]
        }
      ]
    },
    {
      "cell_type": "code",
      "source": [
        "import matplotlib.pyplot as plt"
      ],
      "metadata": {
        "id": "M6SH42dDVSuU"
      },
      "execution_count": null,
      "outputs": []
    },
    {
      "cell_type": "code",
      "source": [
        "plt.plot(error_list)\n",
        "plt.show()"
      ],
      "metadata": {
        "colab": {
          "base_uri": "https://localhost:8080/",
          "height": 430
        },
        "id": "LMSwy9BGVh0b",
        "outputId": "ddae5948-149c-493f-9bb6-0a3f1f693e8c"
      },
      "execution_count": null,
      "outputs": [
        {
          "output_type": "display_data",
          "data": {
            "text/plain": [
              "<Figure size 640x480 with 1 Axes>"
            ],
            "image/png": "[encoded data removed]"
          },
          "metadata": {}
        }
      ]
    },
    {
      "cell_type": "code",
      "source": [
        "plt.plot(weight_list)"
      ],
      "metadata": {
        "colab": {
          "base_uri": "https://localhost:8080/",
          "height": 448
        },
        "id": "vil_7viNVnab",
        "outputId": "23d7943e-8e4e-4952-baaa-fb6ead93e93c"
      },
      "execution_count": null,
      "outputs": [
        {
          "output_type": "execute_result",
          "data": {
            "text/plain": [
              "[<matplotlib.lines.Line2D at 0x7bff82e9a350>]"
            ]
          },
          "metadata": {},
          "execution_count": 408
        },
        {
          "output_type": "display_data",
          "data": {
            "text/plain": [
              "<Figure size 640x480 with 1 Axes>"
            ],
            "image/png": "[encoded data removed]"
          },
          "metadata": {}
        }
      ]
    },
    {
      "cell_type": "code",
      "source": [
        "plt.plot(bias_list)\n",
        "plt.show()"
      ],
      "metadata": {
        "colab": {
          "base_uri": "https://localhost:8080/",
          "height": 430
        },
        "id": "Nwi7p24fV7y8",
        "outputId": "bf2a432d-a125-45f2-d49b-bbe1bd626816"
      },
      "execution_count": null,
      "outputs": [
        {
          "output_type": "display_data",
          "data": {
            "text/plain": [
              "<Figure size 640x480 with 1 Axes>"
            ],
            "image/png": "[encoded data removed]"
          },
          "metadata": {}
        }
      ]
    },
    {
      "cell_type": "code",
      "source": [],
      "metadata": {
        "id": "wgEHkiu5WMGa"
      },
      "execution_count": null,
      "outputs": []
    }
  ]
}