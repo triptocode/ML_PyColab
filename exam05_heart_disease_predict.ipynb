{
  "nbformat": 4,
  "nbformat_minor": 0,
  "metadata": {
    "colab": {
      "provenance": []
    },
    "kernelspec": {
      "name": "python3",
      "display_name": "Python 3"
    },
    "language_info": {
      "name": "python"
    }
  },
  "cells": [
    {
      "cell_type": "code",
      "execution_count": null,
      "metadata": {
        "id": "legHE7shgJZP"
      },
      "outputs": [],
      "source": [
        "import pandas as pd\n",
        "import numpy as np\n",
        "import matplotlib.pyplot as plt\n",
        "from tensorflow.keras.models import Sequential\n",
        "from tensorflow.keras.layers import Dense, Dropout"
      ]
    },
    {
      "cell_type": "markdown",
      "source": [
        "age : 나이\n",
        "\n",
        "sex : 성별\n",
        "\n",
        "cp : 가슴 통증 종류\n",
        "\n",
        "treshbps : 안정시 혈압\n",
        "\n",
        "chol : 콜레스테롤\n",
        "\n",
        "fbs : 공복시 혈당 (1:120초과,2:120이하)\n",
        "\n",
        "restecg : 안정시 심전도 0:normal, 1:ST-T파 이상, 2:좌심실 비대\n",
        "\n",
        "thalach : 최대 심박수\n",
        "\n",
        "exang : 운동 유발 협심증 1:yes, 0:no\n",
        "\n",
        "oldpeak : ST depression induced by exercise relative to rest\n",
        "\n",
        "slope : the slope of the peak exercise ST segment 1:upsloping, 2:flat, 3:downsloping\n",
        "\n",
        "ca : 조영제에 착색된 혈관수\n",
        "\n",
        "thal : 3:normal, 6:고정 결함, 7:가역적 결함\n",
        "\n",
        "HeartDisease : 심장병 유무"
      ],
      "metadata": {
        "id": "8C1FJGOOlfq1"
      }
    },
    {
      "cell_type": "code",
      "source": [
        "column_name = ['age', 'sex', 'cp', 'treshbps', 'chol', 'fbs', 'restecg',\n",
        "               'thalach', 'exang', 'oldpeak', 'slope', 'ca', 'thal',\n",
        "               'HeartDisease']\n",
        "raw_data = pd.read_excel('/content/datasets/heart-disease.xlsx',\n",
        "                         header=None, names=column_name)\n",
        "raw_data.head()"
      ],
      "metadata": {
        "colab": {
          "base_uri": "https://localhost:8080/",
          "height": 206
        },
        "id": "17u9uaWjiVv_",
        "outputId": "73a33416-d34d-4797-d77b-d1c13c882d5d"
      },
      "execution_count": null,
      "outputs": [
        {
          "output_type": "execute_result",
          "data": {
            "text/plain": [
              "   age  sex  cp  treshbps chol  fbs  restecg  thalach  exang  oldpeak  slope  \\\n",
              "0   63    1   1       145  233    1        2      150      0      2.3      3   \n",
              "1   67    1   4       160  286    0        0      108      1      1.5      2   \n",
              "2   67    1   4       120    ?    0        2      129      1      2.6      2   \n",
              "3   37    1   3       130  250    0        0      187      0      3.5      3   \n",
              "4   41    0   2       130  204    0        2      172      0      1.4      1   \n",
              "\n",
              "  ca thal  HeartDisease  \n",
              "0  0    6             0  \n",
              "1  3    3             1  \n",
              "2  2    7             1  \n",
              "3  0    3             0  \n",
              "4  0    3             0  "
            ],
            "text/html": [
              "\n",
              "  <div id=\"df-aa8e4db5-e011-4bec-b686-09f8e1203fb7\" class=\"colab-df-container\">\n",
              "    <div>\n",
              "<style scoped>\n",
              "    .dataframe tbody tr th:only-of-type {\n",
              "        vertical-align: middle;\n",
              "    }\n",
              "\n",
              "    .dataframe tbody tr th {\n",
              "        vertical-align: top;\n",
              "    }\n",
              "\n",
              "    .dataframe thead th {\n",
              "        text-align: right;\n",
              "    }\n",
              "</style>\n",
              "<table border=\"1\" class=\"dataframe\">\n",
              "  <thead>\n",
              "    <tr style=\"text-align: right;\">\n",
              "      <th></th>\n",
              "      <th>age</th>\n",
              "      <th>sex</th>\n",
              "      <th>cp</th>\n",
              "      <th>treshbps</th>\n",
              "      <th>chol</th>\n",
              "      <th>fbs</th>\n",
              "      <th>restecg</th>\n",
              "      <th>thalach</th>\n",
              "      <th>exang</th>\n",
              "      <th>oldpeak</th>\n",
              "      <th>slope</th>\n",
              "      <th>ca</th>\n",
              "      <th>thal</th>\n",
              "      <th>HeartDisease</th>\n",
              "    </tr>\n",
              "  </thead>\n",
              "  <tbody>\n",
              "    <tr>\n",
              "      <th>0</th>\n",
              "      <td>63</td>\n",
              "      <td>1</td>\n",
              "      <td>1</td>\n",
              "      <td>145</td>\n",
              "      <td>233</td>\n",
              "      <td>1</td>\n",
              "      <td>2</td>\n",
              "      <td>150</td>\n",
              "      <td>0</td>\n",
              "      <td>2.3</td>\n",
              "      <td>3</td>\n",
              "      <td>0</td>\n",
              "      <td>6</td>\n",
              "      <td>0</td>\n",
              "    </tr>\n",
              "    <tr>\n",
              "      <th>1</th>\n",
              "      <td>67</td>\n",
              "      <td>1</td>\n",
              "      <td>4</td>\n",
              "      <td>160</td>\n",
              "      <td>286</td>\n",
              "      <td>0</td>\n",
              "      <td>0</td>\n",
              "      <td>108</td>\n",
              "      <td>1</td>\n",
              "      <td>1.5</td>\n",
              "      <td>2</td>\n",
              "      <td>3</td>\n",
              "      <td>3</td>\n",
              "      <td>1</td>\n",
              "    </tr>\n",
              "    <tr>\n",
              "      <th>2</th>\n",
              "      <td>67</td>\n",
              "      <td>1</td>\n",
              "      <td>4</td>\n",
              "      <td>120</td>\n",
              "      <td>?</td>\n",
              "      <td>0</td>\n",
              "      <td>2</td>\n",
              "      <td>129</td>\n",
              "      <td>1</td>\n",
              "      <td>2.6</td>\n",
              "      <td>2</td>\n",
              "      <td>2</td>\n",
              "      <td>7</td>\n",
              "      <td>1</td>\n",
              "    </tr>\n",
              "    <tr>\n",
              "      <th>3</th>\n",
              "      <td>37</td>\n",
              "      <td>1</td>\n",
              "      <td>3</td>\n",
              "      <td>130</td>\n",
              "      <td>250</td>\n",
              "      <td>0</td>\n",
              "      <td>0</td>\n",
              "      <td>187</td>\n",
              "      <td>0</td>\n",
              "      <td>3.5</td>\n",
              "      <td>3</td>\n",
              "      <td>0</td>\n",
              "      <td>3</td>\n",
              "      <td>0</td>\n",
              "    </tr>\n",
              "    <tr>\n",
              "      <th>4</th>\n",
              "      <td>41</td>\n",
              "      <td>0</td>\n",
              "      <td>2</td>\n",
              "      <td>130</td>\n",
              "      <td>204</td>\n",
              "      <td>0</td>\n",
              "      <td>2</td>\n",
              "      <td>172</td>\n",
              "      <td>0</td>\n",
              "      <td>1.4</td>\n",
              "      <td>1</td>\n",
              "      <td>0</td>\n",
              "      <td>3</td>\n",
              "      <td>0</td>\n",
              "    </tr>\n",
              "  </tbody>\n",
              "</table>\n",
              "</div>\n",
              "    <div class=\"colab-df-buttons\">\n",
              "\n",
              "  <div class=\"colab-df-container\">\n",
              "    <button class=\"colab-df-convert\" onclick=\"convertToInteractive('df-aa8e4db5-e011-4bec-b686-09f8e1203fb7')\"\n",
              "            title=\"Convert this dataframe to an interactive table.\"\n",
              "            style=\"display:none;\">\n",
              "\n",
              "  <svg xmlns=\"http://www.w3.org/2000/svg\" height=\"24px\" viewBox=\"0 -960 960 960\">\n",
              "    <path d=\"M120-120v-720h720v720H120Zm60-500h600v-160H180v160Zm220 220h160v-160H400v160Zm0 220h160v-160H400v160ZM180-400h160v-160H180v160Zm440 0h160v-160H620v160ZM180-180h160v-160H180v160Zm440 0h160v-160H620v160Z\"/>\n",
              "  </svg>\n",
              "    </button>\n",
              "\n",
              "  <style>\n",
              "    .colab-df-container {\n",
              "      display:flex;\n",
              "      gap: 12px;\n",
              "    }\n",
              "\n",
              "    .colab-df-convert {\n",
              "      background-color: #E8F0FE;\n",
              "      border: none;\n",
              "      border-radius: 50%;\n",
              "      cursor: pointer;\n",
              "      display: none;\n",
              "      fill: #1967D2;\n",
              "      height: 32px;\n",
              "      padding: 0 0 0 0;\n",
              "      width: 32px;\n",
              "    }\n",
              "\n",
              "    .colab-df-convert:hover {\n",
              "      background-color: #E2EBFA;\n",
              "      box-shadow: 0px 1px 2px rgba(60, 64, 67, 0.3), 0px 1px 3px 1px rgba(60, 64, 67, 0.15);\n",
              "      fill: #174EA6;\n",
              "    }\n",
              "\n",
              "    .colab-df-buttons div {\n",
              "      margin-bottom: 4px;\n",
              "    }\n",
              "\n",
              "    [theme=dark] .colab-df-convert {\n",
              "      background-color: #3B4455;\n",
              "      fill: #D2E3FC;\n",
              "    }\n",
              "\n",
              "    [theme=dark] .colab-df-convert:hover {\n",
              "      background-color: #434B5C;\n",
              "      box-shadow: 0px 1px 3px 1px rgba(0, 0, 0, 0.15);\n",
              "      filter: drop-shadow(0px 1px 2px rgba(0, 0, 0, 0.3));\n",
              "      fill: #FFFFFF;\n",
              "    }\n",
              "  </style>\n",
              "\n",
              "    <script>\n",
              "      const buttonEl =\n",
              "        document.querySelector('#df-aa8e4db5-e011-4bec-b686-09f8e1203fb7 button.colab-df-convert');\n",
              "      buttonEl.style.display =\n",
              "        google.colab.kernel.accessAllowed ? 'block' : 'none';\n",
              "\n",
              "      async function convertToInteractive(key) {\n",
              "        const element = document.querySelector('#df-aa8e4db5-e011-4bec-b686-09f8e1203fb7');\n",
              "        const dataTable =\n",
              "          await google.colab.kernel.invokeFunction('convertToInteractive',\n",
              "                                                    [key], {});\n",
              "        if (!dataTable) return;\n",
              "\n",
              "        const docLinkHtml = 'Like what you see? Visit the ' +\n",
              "          '<a target=\"_blank\" href=https://colab.research.google.com/notebooks/data_table.ipynb>data table notebook</a>'\n",
              "          + ' to learn more about interactive tables.';\n",
              "        element.innerHTML = '';\n",
              "        dataTable['output_type'] = 'display_data';\n",
              "        await google.colab.output.renderOutput(dataTable, element);\n",
              "        const docLink = document.createElement('div');\n",
              "        docLink.innerHTML = docLinkHtml;\n",
              "        element.appendChild(docLink);\n",
              "      }\n",
              "    </script>\n",
              "  </div>\n",
              "\n",
              "\n",
              "<div id=\"df-65ec29a3-5ac9-42f8-b934-be05b9d68ba1\">\n",
              "  <button class=\"colab-df-quickchart\" onclick=\"quickchart('df-65ec29a3-5ac9-42f8-b934-be05b9d68ba1')\"\n",
              "            title=\"Suggest charts.\"\n",
              "            style=\"display:none;\">\n",
              "\n",
              "<svg xmlns=\"http://www.w3.org/2000/svg\" height=\"24px\"viewBox=\"0 0 24 24\"\n",
              "     width=\"24px\">\n",
              "    <g>\n",
              "        <path d=\"M19 3H5c-1.1 0-2 .9-2 2v14c0 1.1.9 2 2 2h14c1.1 0 2-.9 2-2V5c0-1.1-.9-2-2-2zM9 17H7v-7h2v7zm4 0h-2V7h2v10zm4 0h-2v-4h2v4z\"/>\n",
              "    </g>\n",
              "</svg>\n",
              "  </button>\n",
              "\n",
              "<style>\n",
              "  .colab-df-quickchart {\n",
              "    background-color: #E8F0FE;\n",
              "    border: none;\n",
              "    border-radius: 50%;\n",
              "    cursor: pointer;\n",
              "    display: none;\n",
              "    fill: #1967D2;\n",
              "    height: 32px;\n",
              "    padding: 0 0 0 0;\n",
              "    width: 32px;\n",
              "  }\n",
              "\n",
              "  .colab-df-quickchart:hover {\n",
              "    background-color: #E2EBFA;\n",
              "    box-shadow: 0px 1px 2px rgba(60, 64, 67, 0.3), 0px 1px 3px 1px rgba(60, 64, 67, 0.15);\n",
              "    fill: #174EA6;\n",
              "  }\n",
              "\n",
              "  [theme=dark] .colab-df-quickchart {\n",
              "    background-color: #3B4455;\n",
              "    fill: #D2E3FC;\n",
              "  }\n",
              "\n",
              "  [theme=dark] .colab-df-quickchart:hover {\n",
              "    background-color: #434B5C;\n",
              "    box-shadow: 0px 1px 3px 1px rgba(0, 0, 0, 0.15);\n",
              "    filter: drop-shadow(0px 1px 2px rgba(0, 0, 0, 0.3));\n",
              "    fill: #FFFFFF;\n",
              "  }\n",
              "</style>\n",
              "\n",
              "  <script>\n",
              "    async function quickchart(key) {\n",
              "      const charts = await google.colab.kernel.invokeFunction(\n",
              "          'suggestCharts', [key], {});\n",
              "    }\n",
              "    (() => {\n",
              "      let quickchartButtonEl =\n",
              "        document.querySelector('#df-65ec29a3-5ac9-42f8-b934-be05b9d68ba1 button');\n",
              "      quickchartButtonEl.style.display =\n",
              "        google.colab.kernel.accessAllowed ? 'block' : 'none';\n",
              "    })();\n",
              "  </script>\n",
              "</div>\n",
              "    </div>\n",
              "  </div>\n"
            ]
          },
          "metadata": {},
          "execution_count": 10
        }
      ]
    },
    {
      "cell_type": "code",
      "source": [
        "print(raw_data.describe())"
      ],
      "metadata": {
        "colab": {
          "base_uri": "https://localhost:8080/"
        },
        "id": "AySsoBapjKNv",
        "outputId": "c19dfc4b-1c0a-46cc-9b71-585156ff78b2"
      },
      "execution_count": null,
      "outputs": [
        {
          "output_type": "stream",
          "name": "stdout",
          "text": [
            "              age         sex          cp    treshbps         fbs     restecg  \\\n",
            "count  303.000000  303.000000  303.000000  303.000000  303.000000  303.000000   \n",
            "mean    54.438944    0.679868    3.158416  131.689769    0.148515    0.983498   \n",
            "std      9.038662    0.467299    0.960126   17.599748    0.356198    0.994883   \n",
            "min     29.000000    0.000000    1.000000   94.000000    0.000000    0.000000   \n",
            "25%     48.000000    0.000000    3.000000  120.000000    0.000000    0.000000   \n",
            "50%     56.000000    1.000000    3.000000  130.000000    0.000000    0.000000   \n",
            "75%     61.000000    1.000000    4.000000  140.000000    0.000000    2.000000   \n",
            "max     77.000000    1.000000    4.000000  200.000000    1.000000    2.000000   \n",
            "\n",
            "          thalach       exang     oldpeak       slope  HeartDisease  \n",
            "count  303.000000  303.000000  303.000000  303.000000    303.000000  \n",
            "mean   149.607261    0.326733    1.039604    1.600660      0.458746  \n",
            "std     22.875003    0.469794    1.161075    0.616226      0.499120  \n",
            "min     71.000000    0.000000    0.000000    1.000000      0.000000  \n",
            "25%    133.500000    0.000000    0.000000    1.000000      0.000000  \n",
            "50%    153.000000    0.000000    0.800000    2.000000      0.000000  \n",
            "75%    166.000000    1.000000    1.600000    2.000000      1.000000  \n",
            "max    202.000000    1.000000    6.200000    3.000000      1.000000  \n"
          ]
        }
      ]
    },
    {
      "cell_type": "code",
      "source": [
        "raw_data.info()"
      ],
      "metadata": {
        "id": "hIaIa7pWl0-A",
        "colab": {
          "base_uri": "https://localhost:8080/"
        },
        "outputId": "d205f272-db7d-48fa-974e-418d958418e7"
      },
      "execution_count": null,
      "outputs": [
        {
          "output_type": "stream",
          "name": "stdout",
          "text": [
            "<class 'pandas.core.frame.DataFrame'>\n",
            "RangeIndex: 303 entries, 0 to 302\n",
            "Data columns (total 14 columns):\n",
            " #   Column        Non-Null Count  Dtype  \n",
            "---  ------        --------------  -----  \n",
            " 0   age           303 non-null    int64  \n",
            " 1   sex           303 non-null    int64  \n",
            " 2   cp            303 non-null    int64  \n",
            " 3   treshbps      303 non-null    int64  \n",
            " 4   chol          303 non-null    object \n",
            " 5   fbs           303 non-null    int64  \n",
            " 6   restecg       303 non-null    int64  \n",
            " 7   thalach       303 non-null    int64  \n",
            " 8   exang         303 non-null    int64  \n",
            " 9   oldpeak       303 non-null    float64\n",
            " 10  slope         303 non-null    int64  \n",
            " 11  ca            303 non-null    object \n",
            " 12  thal          303 non-null    object \n",
            " 13  HeartDisease  303 non-null    int64  \n",
            "dtypes: float64(1), int64(10), object(3)\n",
            "memory usage: 33.3+ KB\n"
          ]
        }
      ]
    },
    {
      "cell_type": "code",
      "source": [
        "clean_data = raw_data.replace('?', np.nan)\n",
        "clean_data = clean_data.dropna()\n",
        "clean_data.info()"
      ],
      "metadata": {
        "colab": {
          "base_uri": "https://localhost:8080/"
        },
        "id": "0jwdtfQYtGqC",
        "outputId": "488bf5a9-a23d-42d6-8ef0-409b0da7d0e7"
      },
      "execution_count": null,
      "outputs": [
        {
          "output_type": "stream",
          "name": "stdout",
          "text": [
            "<class 'pandas.core.frame.DataFrame'>\n",
            "Int64Index: 296 entries, 0 to 301\n",
            "Data columns (total 14 columns):\n",
            " #   Column        Non-Null Count  Dtype  \n",
            "---  ------        --------------  -----  \n",
            " 0   age           296 non-null    int64  \n",
            " 1   sex           296 non-null    int64  \n",
            " 2   cp            296 non-null    int64  \n",
            " 3   treshbps      296 non-null    int64  \n",
            " 4   chol          296 non-null    float64\n",
            " 5   fbs           296 non-null    int64  \n",
            " 6   restecg       296 non-null    int64  \n",
            " 7   thalach       296 non-null    int64  \n",
            " 8   exang         296 non-null    int64  \n",
            " 9   oldpeak       296 non-null    float64\n",
            " 10  slope         296 non-null    int64  \n",
            " 11  ca            296 non-null    float64\n",
            " 12  thal          296 non-null    float64\n",
            " 13  HeartDisease  296 non-null    int64  \n",
            "dtypes: float64(4), int64(10)\n",
            "memory usage: 34.7 KB\n"
          ]
        }
      ]
    },
    {
      "cell_type": "code",
      "source": [
        "keep = column_name.pop()\n",
        "print(keep)\n",
        "print(column_name)"
      ],
      "metadata": {
        "colab": {
          "base_uri": "https://localhost:8080/"
        },
        "id": "nywsEi37t-jD",
        "outputId": "b0bc6c26-06e1-4902-e190-ca7b5998d70c"
      },
      "execution_count": null,
      "outputs": [
        {
          "output_type": "stream",
          "name": "stdout",
          "text": [
            "HeartDisease\n",
            "['age', 'sex', 'cp', 'treshbps', 'chol', 'fbs', 'restecg', 'thalach', 'exang', 'oldpeak', 'slope', 'ca', 'thal']\n"
          ]
        }
      ]
    },
    {
      "cell_type": "code",
      "source": [
        "training_data = clean_data[column_name]\n",
        "target = clean_data[[keep]]\n",
        "print(training_data.head())\n",
        "print(target.head())"
      ],
      "metadata": {
        "colab": {
          "base_uri": "https://localhost:8080/"
        },
        "id": "P8-LNzy9vGQ6",
        "outputId": "cda11384-1b6a-49f2-c78d-6d2e2f417e32"
      },
      "execution_count": null,
      "outputs": [
        {
          "output_type": "stream",
          "name": "stdout",
          "text": [
            "   age  sex  cp  treshbps   chol  fbs  restecg  thalach  exang  oldpeak  \\\n",
            "0   63    1   1       145  233.0    1        2      150      0      2.3   \n",
            "1   67    1   4       160  286.0    0        0      108      1      1.5   \n",
            "3   37    1   3       130  250.0    0        0      187      0      3.5   \n",
            "4   41    0   2       130  204.0    0        2      172      0      1.4   \n",
            "5   56    1   2       120  236.0    0        0      178      0      0.8   \n",
            "\n",
            "   slope   ca  thal  \n",
            "0      3  0.0   6.0  \n",
            "1      2  3.0   3.0  \n",
            "3      3  0.0   3.0  \n",
            "4      1  0.0   3.0  \n",
            "5      1  0.0   3.0  \n",
            "   HeartDisease\n",
            "0             0\n",
            "1             1\n",
            "3             0\n",
            "4             0\n",
            "5             0\n"
          ]
        }
      ]
    },
    {
      "cell_type": "code",
      "source": [
        "print(target['HeartDisease'].sum())"
      ],
      "metadata": {
        "colab": {
          "base_uri": "https://localhost:8080/"
        },
        "id": "t50y9TVowOEw",
        "outputId": "f2910037-8100-4086-a699-61ad6526d4ee"
      },
      "execution_count": null,
      "outputs": [
        {
          "output_type": "stream",
          "name": "stdout",
          "text": [
            "136\n"
          ]
        }
      ]
    },
    {
      "cell_type": "code",
      "source": [
        "print(target['HeartDisease'].mean())"
      ],
      "metadata": {
        "colab": {
          "base_uri": "https://localhost:8080/"
        },
        "id": "P8Fg_n4vwvfk",
        "outputId": "078d5406-047d-4fd9-b16d-8e5765124839"
      },
      "execution_count": null,
      "outputs": [
        {
          "output_type": "stream",
          "name": "stdout",
          "text": [
            "0.4594594594594595\n"
          ]
        }
      ]
    },
    {
      "cell_type": "code",
      "source": [
        "from sklearn.preprocessing import StandardScaler\n",
        "scaler = StandardScaler()\n",
        "scaled_data = scaler.fit_transform(training_data)\n",
        "scaled_data = pd.DataFrame(scaled_data, columns=column_name)\n",
        "print(scaled_data.head())"
      ],
      "metadata": {
        "colab": {
          "base_uri": "https://localhost:8080/"
        },
        "id": "A6sr2p-Hw9wo",
        "outputId": "ec9d0735-07bf-44f2-f929-53b5abd5e385"
      },
      "execution_count": null,
      "outputs": [
        {
          "output_type": "stream",
          "name": "stdout",
          "text": [
            "        age       sex        cp  treshbps      chol       fbs   restecg  \\\n",
            "0  0.942285  0.692820 -2.236793  0.747441 -0.277228  2.425638  1.020526   \n",
            "1  1.385714  0.692820  0.876486  1.592523  0.742265 -0.412263 -0.993312   \n",
            "2 -1.939999  0.692820 -0.161274 -0.097641  0.049779 -0.412263 -0.993312   \n",
            "3 -1.496571 -1.443376 -1.199033 -0.097641 -0.835064 -0.412263  1.020526   \n",
            "4  0.166286  0.692820 -1.199033 -0.661029 -0.219521 -0.412263 -0.993312   \n",
            "\n",
            "    thalach     exang   oldpeak     slope        ca      thal  \n",
            "0  0.014451 -0.692820  1.074839  2.264087 -0.718421  0.660262  \n",
            "1 -1.818794  1.443376  0.386756  0.645320  2.487397 -0.890830  \n",
            "2  1.629453 -0.692820  2.106963  2.264087 -0.718421 -0.890830  \n",
            "3  0.974723 -0.692820  0.300746 -0.973448 -0.718421 -0.890830  \n",
            "4  1.236615 -0.692820 -0.215316 -0.973448 -0.718421 -0.890830  \n"
          ]
        }
      ]
    },
    {
      "cell_type": "code",
      "source": [
        "print(scaled_data.describe().T)"
      ],
      "metadata": {
        "colab": {
          "base_uri": "https://localhost:8080/"
        },
        "id": "5MYKllqqzCmy",
        "outputId": "32c3877d-6f3a-4cb2-c69d-2dedd416a24d"
      },
      "execution_count": null,
      "outputs": [
        {
          "output_type": "stream",
          "name": "stdout",
          "text": [
            "          count          mean       std       min       25%       50%  \\\n",
            "age       296.0  3.000603e-18  1.001693 -2.826856 -0.720571  0.166286   \n",
            "sex       296.0  6.001206e-18  1.001693 -1.443376 -1.443376  0.692820   \n",
            "cp        296.0  1.140229e-16  1.001693 -2.236793 -0.161274 -0.161274   \n",
            "treshbps  296.0  5.911187e-16  1.001693 -2.125838 -0.661029 -0.097641   \n",
            "chol      296.0  1.500301e-17  1.001693 -2.335451 -0.700414 -0.084871   \n",
            "fbs       296.0  1.200241e-17  1.001693 -0.412263 -0.412263 -0.412263   \n",
            "restecg   296.0 -2.400482e-17  1.001693 -0.993312 -0.993312 -0.489853   \n",
            "thalach   296.0  6.001206e-16  1.001693 -3.433796 -0.694840  0.145397   \n",
            "exang     296.0 -9.001808e-18  1.001693 -0.692820 -0.692820 -0.692820   \n",
            "oldpeak   296.0 -1.200241e-17  1.001693 -0.903399 -0.903399 -0.215316   \n",
            "slope     296.0  4.200844e-17  1.001693 -0.973448 -0.973448  0.645320   \n",
            "ca        296.0 -1.200241e-17  1.001693 -0.718421 -0.718421 -0.718421   \n",
            "thal      296.0  5.401085e-17  1.001693 -0.890830 -0.890830 -0.890830   \n",
            "\n",
            "               75%       max  \n",
            "age       0.720571  2.494285  \n",
            "sex       0.692820  0.692820  \n",
            "cp        0.876486  0.876486  \n",
            "treshbps  0.465747  3.846075  \n",
            "chol      0.554717  6.089796  \n",
            "fbs      -0.412263  2.425638  \n",
            "restecg   1.020526  1.020526  \n",
            "thalach   0.712830  2.284183  \n",
            "exang     1.443376  1.443376  \n",
            "oldpeak   0.472766  4.429243  \n",
            "slope     0.645320  2.264087  \n",
            "ca        0.350185  2.487397  \n",
            "thal      1.177293  1.177293  \n"
          ]
        }
      ]
    },
    {
      "cell_type": "code",
      "source": [
        "boxplot = scaled_data.boxplot(column=column_name, showmeans=True)\n",
        "plt.show()"
      ],
      "metadata": {
        "colab": {
          "base_uri": "https://localhost:8080/",
          "height": 430
        },
        "id": "pgWPjmRIz0Ci",
        "outputId": "d0fa2d84-2365-4ad4-df07-d8ad6a5e725d"
      },
      "execution_count": null,
      "outputs": [
        {
          "output_type": "display_data",
          "data": {
            "text/plain": [
              "<Figure size 640x480 with 1 Axes>"
            ],
            "image/png": "[encoded data removed]"
          },
          "metadata": {}
        }
      ]
    },
    {
      "cell_type": "code",
      "source": [
        "from sklearn.model_selection import train_test_split\n",
        "X_train, X_test, Y_train, Y_test = train_test_split(\n",
        "    scaled_data, target, test_size=0.3)\n",
        "print('X_train shape :', X_train.shape)\n",
        "print('Y_train shape :', Y_train.shape)\n",
        "print('X_test shape :', X_test.shape)\n",
        "print('Y_test shape :', Y_test.shape)"
      ],
      "metadata": {
        "colab": {
          "base_uri": "https://localhost:8080/"
        },
        "id": "UzWIsbXu1UzS",
        "outputId": "cb84d2f7-9797-4550-e78b-96287332e130"
      },
      "execution_count": null,
      "outputs": [
        {
          "output_type": "stream",
          "name": "stdout",
          "text": [
            "X_train shape : (207, 13)\n",
            "Y_train shape : (207, 1)\n",
            "X_test shape : (89, 13)\n",
            "Y_test shape : (89, 1)\n"
          ]
        }
      ]
    },
    {
      "cell_type": "code",
      "source": [
        "model = Sequential()\n",
        "model.add(Dense(512, input_dim=13, activation='relu'))\n",
        "model.add(Dropout(0.25))\n",
        "model.add(Dense(256, activation='relu'))\n",
        "model.add(Dropout(0.1))\n",
        "model.add(Dense(128, activation='relu'))\n",
        "model.add(Dropout(0.1))\n",
        "model.add(Dense(1, activation='sigmoid'))\n",
        "print(model.summary())"
      ],
      "metadata": {
        "colab": {
          "base_uri": "https://localhost:8080/"
        },
        "id": "K_7ajbpA8BMj",
        "outputId": "b388e192-9f5d-4da9-8b16-52f16c6f6913"
      },
      "execution_count": null,
      "outputs": [
        {
          "output_type": "stream",
          "name": "stdout",
          "text": [
            "Model: \"sequential_2\"\n",
            "_________________________________________________________________\n",
            " Layer (type)                Output Shape              Param #   \n",
            "=================================================================\n",
            " dense_8 (Dense)             (None, 512)               7168      \n",
            "                                                                 \n",
            " dropout_3 (Dropout)         (None, 512)               0         \n",
            "                                                                 \n",
            " dense_9 (Dense)             (None, 256)               131328    \n",
            "                                                                 \n",
            " dropout_4 (Dropout)         (None, 256)               0         \n",
            "                                                                 \n",
            " dense_10 (Dense)            (None, 128)               32896     \n",
            "                                                                 \n",
            " dropout_5 (Dropout)         (None, 128)               0         \n",
            "                                                                 \n",
            " dense_11 (Dense)            (None, 1)                 129       \n",
            "                                                                 \n",
            "=================================================================\n",
            "Total params: 171,521\n",
            "Trainable params: 171,521\n",
            "Non-trainable params: 0\n",
            "_________________________________________________________________\n",
            "None\n"
          ]
        }
      ]
    },
    {
      "cell_type": "code",
      "source": [
        "model.compile(loss='mse', optimizer='adam', metrics=['binary_accuracy'])\n",
        "fit_hist = model.fit(\n",
        "    X_train, Y_train, batch_size=50, epochs=50,\n",
        "    validation_split=0.2, verbose=1)"
      ],
      "metadata": {
        "colab": {
          "base_uri": "https://localhost:8080/"
        },
        "id": "rDCCBsfl89OC",
        "outputId": "72fba9b3-797e-4ebc-a414-e6fa69c08dd7"
      },
      "execution_count": null,
      "outputs": [
        {
          "output_type": "stream",
          "name": "stdout",
          "text": [
            "Epoch 1/50\n",
            "4/4 [==============================] - 1s 121ms/step - loss: 0.2246 - binary_accuracy: 0.6727 - val_loss: 0.1641 - val_binary_accuracy: 0.8810\n",
            "Epoch 2/50\n",
            "4/4 [==============================] - 0s 44ms/step - loss: 0.1581 - binary_accuracy: 0.8242 - val_loss: 0.1259 - val_binary_accuracy: 0.8333\n",
            "Epoch 3/50\n",
            "4/4 [==============================] - 0s 26ms/step - loss: 0.1248 - binary_accuracy: 0.8364 - val_loss: 0.1206 - val_binary_accuracy: 0.8333\n",
            "Epoch 4/50\n",
            "4/4 [==============================] - 0s 26ms/step - loss: 0.1165 - binary_accuracy: 0.8303 - val_loss: 0.1203 - val_binary_accuracy: 0.8333\n",
            "Epoch 5/50\n",
            "4/4 [==============================] - 0s 28ms/step - loss: 0.1081 - binary_accuracy: 0.8485 - val_loss: 0.1200 - val_binary_accuracy: 0.8333\n",
            "Epoch 6/50\n",
            "4/4 [==============================] - 0s 25ms/step - loss: 0.1019 - binary_accuracy: 0.8424 - val_loss: 0.1227 - val_binary_accuracy: 0.8333\n",
            "Epoch 7/50\n",
            "4/4 [==============================] - 0s 25ms/step - loss: 0.0996 - binary_accuracy: 0.8667 - val_loss: 0.1315 - val_binary_accuracy: 0.8333\n",
            "Epoch 8/50\n",
            "4/4 [==============================] - 0s 32ms/step - loss: 0.0909 - binary_accuracy: 0.8909 - val_loss: 0.1176 - val_binary_accuracy: 0.8571\n",
            "Epoch 9/50\n",
            "4/4 [==============================] - 0s 28ms/step - loss: 0.0904 - binary_accuracy: 0.8727 - val_loss: 0.1086 - val_binary_accuracy: 0.8810\n",
            "Epoch 10/50\n",
            "4/4 [==============================] - 0s 26ms/step - loss: 0.0807 - binary_accuracy: 0.9030 - val_loss: 0.1135 - val_binary_accuracy: 0.8810\n",
            "Epoch 11/50\n",
            "4/4 [==============================] - 0s 31ms/step - loss: 0.0692 - binary_accuracy: 0.9212 - val_loss: 0.1235 - val_binary_accuracy: 0.8571\n",
            "Epoch 12/50\n",
            "4/4 [==============================] - 0s 26ms/step - loss: 0.0775 - binary_accuracy: 0.9152 - val_loss: 0.1271 - val_binary_accuracy: 0.8571\n",
            "Epoch 13/50\n",
            "4/4 [==============================] - 0s 28ms/step - loss: 0.0649 - binary_accuracy: 0.9394 - val_loss: 0.1142 - val_binary_accuracy: 0.9048\n",
            "Epoch 14/50\n",
            "4/4 [==============================] - 0s 26ms/step - loss: 0.0578 - binary_accuracy: 0.9333 - val_loss: 0.1091 - val_binary_accuracy: 0.9048\n",
            "Epoch 15/50\n",
            "4/4 [==============================] - 0s 31ms/step - loss: 0.0666 - binary_accuracy: 0.9212 - val_loss: 0.1218 - val_binary_accuracy: 0.8810\n",
            "Epoch 16/50\n",
            "4/4 [==============================] - 0s 32ms/step - loss: 0.0508 - binary_accuracy: 0.9455 - val_loss: 0.1412 - val_binary_accuracy: 0.8095\n",
            "Epoch 17/50\n",
            "4/4 [==============================] - 0s 26ms/step - loss: 0.0587 - binary_accuracy: 0.9273 - val_loss: 0.1336 - val_binary_accuracy: 0.8095\n",
            "Epoch 18/50\n",
            "4/4 [==============================] - 0s 35ms/step - loss: 0.0441 - binary_accuracy: 0.9636 - val_loss: 0.1084 - val_binary_accuracy: 0.9048\n",
            "Epoch 19/50\n",
            "4/4 [==============================] - 0s 26ms/step - loss: 0.0457 - binary_accuracy: 0.9515 - val_loss: 0.1093 - val_binary_accuracy: 0.8810\n",
            "Epoch 20/50\n",
            "4/4 [==============================] - 0s 35ms/step - loss: 0.0433 - binary_accuracy: 0.9515 - val_loss: 0.1354 - val_binary_accuracy: 0.8095\n",
            "Epoch 21/50\n",
            "4/4 [==============================] - 0s 28ms/step - loss: 0.0441 - binary_accuracy: 0.9333 - val_loss: 0.1465 - val_binary_accuracy: 0.8095\n",
            "Epoch 22/50\n",
            "4/4 [==============================] - 0s 35ms/step - loss: 0.0395 - binary_accuracy: 0.9515 - val_loss: 0.1321 - val_binary_accuracy: 0.8333\n",
            "Epoch 23/50\n",
            "4/4 [==============================] - 0s 26ms/step - loss: 0.0369 - binary_accuracy: 0.9697 - val_loss: 0.1275 - val_binary_accuracy: 0.8571\n",
            "Epoch 24/50\n",
            "4/4 [==============================] - 0s 32ms/step - loss: 0.0366 - binary_accuracy: 0.9758 - val_loss: 0.1351 - val_binary_accuracy: 0.8333\n",
            "Epoch 25/50\n",
            "4/4 [==============================] - 0s 27ms/step - loss: 0.0311 - binary_accuracy: 0.9697 - val_loss: 0.1432 - val_binary_accuracy: 0.8095\n",
            "Epoch 26/50\n",
            "4/4 [==============================] - 0s 18ms/step - loss: 0.0357 - binary_accuracy: 0.9697 - val_loss: 0.1352 - val_binary_accuracy: 0.8571\n",
            "Epoch 27/50\n",
            "4/4 [==============================] - 0s 19ms/step - loss: 0.0248 - binary_accuracy: 0.9758 - val_loss: 0.1282 - val_binary_accuracy: 0.8571\n",
            "Epoch 28/50\n",
            "4/4 [==============================] - 0s 19ms/step - loss: 0.0269 - binary_accuracy: 0.9697 - val_loss: 0.1188 - val_binary_accuracy: 0.8571\n",
            "Epoch 29/50\n",
            "4/4 [==============================] - 0s 20ms/step - loss: 0.0239 - binary_accuracy: 0.9879 - val_loss: 0.1277 - val_binary_accuracy: 0.8571\n",
            "Epoch 30/50\n",
            "4/4 [==============================] - 0s 18ms/step - loss: 0.0272 - binary_accuracy: 0.9697 - val_loss: 0.1606 - val_binary_accuracy: 0.7857\n",
            "Epoch 31/50\n",
            "4/4 [==============================] - 0s 18ms/step - loss: 0.0238 - binary_accuracy: 0.9818 - val_loss: 0.1520 - val_binary_accuracy: 0.7857\n",
            "Epoch 32/50\n",
            "4/4 [==============================] - 0s 25ms/step - loss: 0.0228 - binary_accuracy: 0.9818 - val_loss: 0.1377 - val_binary_accuracy: 0.8333\n",
            "Epoch 33/50\n",
            "4/4 [==============================] - 0s 18ms/step - loss: 0.0245 - binary_accuracy: 0.9758 - val_loss: 0.1582 - val_binary_accuracy: 0.7857\n",
            "Epoch 34/50\n",
            "4/4 [==============================] - 0s 19ms/step - loss: 0.0153 - binary_accuracy: 0.9879 - val_loss: 0.1649 - val_binary_accuracy: 0.7857\n",
            "Epoch 35/50\n",
            "4/4 [==============================] - 0s 26ms/step - loss: 0.0164 - binary_accuracy: 0.9879 - val_loss: 0.1493 - val_binary_accuracy: 0.8095\n",
            "Epoch 36/50\n",
            "4/4 [==============================] - 0s 25ms/step - loss: 0.0188 - binary_accuracy: 0.9818 - val_loss: 0.1358 - val_binary_accuracy: 0.8095\n",
            "Epoch 37/50\n",
            "4/4 [==============================] - 0s 18ms/step - loss: 0.0112 - binary_accuracy: 0.9939 - val_loss: 0.1368 - val_binary_accuracy: 0.8333\n",
            "Epoch 38/50\n",
            "4/4 [==============================] - 0s 25ms/step - loss: 0.0174 - binary_accuracy: 0.9818 - val_loss: 0.1390 - val_binary_accuracy: 0.8095\n",
            "Epoch 39/50\n",
            "4/4 [==============================] - 0s 18ms/step - loss: 0.0153 - binary_accuracy: 0.9758 - val_loss: 0.1382 - val_binary_accuracy: 0.8095\n",
            "Epoch 40/50\n",
            "4/4 [==============================] - 0s 19ms/step - loss: 0.0119 - binary_accuracy: 0.9939 - val_loss: 0.1580 - val_binary_accuracy: 0.8095\n",
            "Epoch 41/50\n",
            "4/4 [==============================] - 0s 17ms/step - loss: 0.0178 - binary_accuracy: 0.9818 - val_loss: 0.1647 - val_binary_accuracy: 0.7857\n",
            "Epoch 42/50\n",
            "4/4 [==============================] - 0s 25ms/step - loss: 0.0108 - binary_accuracy: 0.9879 - val_loss: 0.1248 - val_binary_accuracy: 0.8333\n",
            "Epoch 43/50\n",
            "4/4 [==============================] - 0s 18ms/step - loss: 0.0156 - binary_accuracy: 0.9818 - val_loss: 0.1125 - val_binary_accuracy: 0.8810\n",
            "Epoch 44/50\n",
            "4/4 [==============================] - 0s 21ms/step - loss: 0.0202 - binary_accuracy: 0.9758 - val_loss: 0.1291 - val_binary_accuracy: 0.8333\n",
            "Epoch 45/50\n",
            "4/4 [==============================] - 0s 18ms/step - loss: 0.0157 - binary_accuracy: 0.9818 - val_loss: 0.1434 - val_binary_accuracy: 0.7857\n",
            "Epoch 46/50\n",
            "4/4 [==============================] - 0s 24ms/step - loss: 0.0138 - binary_accuracy: 0.9818 - val_loss: 0.1576 - val_binary_accuracy: 0.7857\n",
            "Epoch 47/50\n",
            "4/4 [==============================] - 0s 18ms/step - loss: 0.0161 - binary_accuracy: 0.9818 - val_loss: 0.1702 - val_binary_accuracy: 0.7857\n",
            "Epoch 48/50\n",
            "4/4 [==============================] - 0s 19ms/step - loss: 0.0118 - binary_accuracy: 0.9879 - val_loss: 0.1848 - val_binary_accuracy: 0.7857\n",
            "Epoch 49/50\n",
            "4/4 [==============================] - 0s 25ms/step - loss: 0.0182 - binary_accuracy: 0.9879 - val_loss: 0.1499 - val_binary_accuracy: 0.8095\n",
            "Epoch 50/50\n",
            "4/4 [==============================] - 0s 17ms/step - loss: 0.0184 - binary_accuracy: 0.9818 - val_loss: 0.1276 - val_binary_accuracy: 0.8571\n"
          ]
        }
      ]
    },
    {
      "cell_type": "code",
      "source": [
        "plt.plot(fit_hist.history['binary_accuracy'])\n",
        "plt.plot(fit_hist.history['val_binary_accuracy'])\n",
        "plt.show()"
      ],
      "metadata": {
        "colab": {
          "base_uri": "https://localhost:8080/",
          "height": 430
        },
        "id": "J5g35RIVBV0b",
        "outputId": "2ca50d4b-daed-4574-8a25-1939b59f9b53"
      },
      "execution_count": null,
      "outputs": [
        {
          "output_type": "display_data",
          "data": {
            "text/plain": [
              "<Figure size 640x480 with 1 Axes>"
            ],
            "image/png": "[encoded data removed]"
          },
          "metadata": {}
        }
      ]
    },
    {
      "cell_type": "code",
      "source": [
        "score = model.evaluate(X_test, Y_test, verbose=0)\n",
        "print('Keras DNN model loss :', score[0])\n",
        "print('Keras DNN model accuracy :', score[1])"
      ],
      "metadata": {
        "colab": {
          "base_uri": "https://localhost:8080/"
        },
        "id": "NhcV9y4JBYcA",
        "outputId": "6cc63746-595e-44d6-af4f-3be51821f42d"
      },
      "execution_count": null,
      "outputs": [
        {
          "output_type": "stream",
          "name": "stdout",
          "text": [
            "Keras DNN model loss : 0.18958835303783417\n",
            "Keras DNN model accuracy : 0.7865168452262878\n"
          ]
        }
      ]
    },
    {
      "cell_type": "code",
      "source": [
        "from sklearn.metrics import confusion_matrix\n",
        "from sklearn.metrics import f1_score\n",
        "pred = model.predict(X_test)\n",
        "pred = (pred > 0.9)\n",
        "print(confusion_matrix(Y_test, pred))\n",
        "print(f1_score(Y_test, pred, average='micro'))"
      ],
      "metadata": {
        "colab": {
          "base_uri": "https://localhost:8080/"
        },
        "id": "D00VYr6BBZdo",
        "outputId": "5513c7b3-1759-47af-9f8c-ad1ee179f00c"
      },
      "execution_count": null,
      "outputs": [
        {
          "output_type": "stream",
          "name": "stdout",
          "text": [
            "3/3 [==============================] - 0s 6ms/step\n",
            "[[46  5]\n",
            " [15 23]]\n",
            "0.7752808988764045\n"
          ]
        }
      ]
    },
    {
      "cell_type": "code",
      "source": [],
      "metadata": {
        "id": "fx1V6ZEqBZgd"
      },
      "execution_count": null,
      "outputs": []
    },
    {
      "cell_type": "code",
      "source": [],
      "metadata": {
        "id": "GZq1DMh5BZjE"
      },
      "execution_count": null,
      "outputs": []
    },
    {
      "cell_type": "code",
      "source": [],
      "metadata": {
        "id": "GDhdPPRYBZlr"
      },
      "execution_count": null,
      "outputs": []
    }
  ]
}