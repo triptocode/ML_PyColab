{
  "nbformat": 4,
  "nbformat_minor": 0,
  "metadata": {
    "colab": {
      "provenance": []
    },
    "kernelspec": {
      "name": "python3",
      "display_name": "Python 3"
    },
    "language_info": {
      "name": "python"
    }
  },
  "cells": [
    {
      "cell_type": "markdown",
      "source": [
        "#그래프 연산"
      ],
      "metadata": {
        "id": "-f9mWIaiDUX5"
      }
    },
    {
      "cell_type": "code",
      "execution_count": null,
      "metadata": {
        "id": "IpUFav4qDChi"
      },
      "outputs": [],
      "source": [
        "class add_graph:\n",
        "    def __init__(self):\n",
        "        pass\n",
        "    def forward(self, x, y):\n",
        "        out = x + y\n",
        "        return out\n",
        "    def backward(self, dout):\n",
        "        dx = 1 * dout\n",
        "        dy = 1 * dout\n",
        "        return dx, dy"
      ]
    },
    {
      "cell_type": "code",
      "source": [
        "class mul_graph:\n",
        "    def __init__(self):\n",
        "        self.x = None\n",
        "        self.y = None\n",
        "\n",
        "    def forward(self, x, y):\n",
        "        self.x = x\n",
        "        self.y = y\n",
        "        out = x * y\n",
        "        return out\n",
        "    def backward(self, dout):\n",
        "        dx = self.y * dout\n",
        "        dy = self.x * dout\n",
        "        return dx, dy"
      ],
      "metadata": {
        "id": "6iy9u0ZyEVht"
      },
      "execution_count": null,
      "outputs": []
    },
    {
      "cell_type": "code",
      "source": [
        "class mse_graph:\n",
        "    def __init__(self):\n",
        "        self.loss = None\n",
        "        self.y = None\n",
        "        self.x = None\n",
        "        self.t = None\n",
        "    def forward(self, y, t):\n",
        "        self.t = t\n",
        "        self.y = y\n",
        "        self.loss = np.square(self.t - self.y).sum() / self.t.shape[0]\n",
        "        return self.loss\n",
        "    def backward(self, x, dout = 1):\n",
        "        data_size = self.t.shape[0]\n",
        "        dweight_mse = ((self.y - self.t) * x).sum() * 2 /data_size\n",
        "        dbias_mse = (self.y - self.t).sum() * 2 / data_size\n",
        "        return dweight_mse, dbias_mse"
      ],
      "metadata": {
        "id": "KORYbM7wXcaK"
      },
      "execution_count": null,
      "outputs": []
    },
    {
      "cell_type": "code",
      "source": [
        "apple = 100\n",
        "apple_num = 2\n",
        "orange = 150\n",
        "orange_num = 3\n",
        "tax = 1.1"
      ],
      "metadata": {
        "id": "SmwxcgW6EvMz"
      },
      "execution_count": null,
      "outputs": []
    },
    {
      "cell_type": "code",
      "source": [
        "mul_apple_graph = mul_graph()\n",
        "mul_orange_graph = mul_graph()\n",
        "add_apple_orange_graph = add_graph()\n",
        "mul_tax_graph = mul_graph()"
      ],
      "metadata": {
        "id": "BCyCA0fMFABr"
      },
      "execution_count": null,
      "outputs": []
    },
    {
      "cell_type": "code",
      "source": [
        "apple_price = mul_apple_graph.forward(apple, apple_num)\n",
        "orange_price = mul_orange_graph.forward(orange, orange_num)\n",
        "all_price = add_apple_orange_graph.forward(apple_price, orange_price)\n",
        "total_price = mul_tax_graph.forward(all_price, tax)\n",
        "print(total_price)"
      ],
      "metadata": {
        "colab": {
          "base_uri": "https://localhost:8080/"
        },
        "id": "0BuTT8PdFYhb",
        "outputId": "ccfa14bb-b397-40ca-eec4-c4ee4911a275"
      },
      "execution_count": null,
      "outputs": [
        {
          "output_type": "stream",
          "name": "stdout",
          "text": [
            "715.0000000000001\n"
          ]
        }
      ]
    },
    {
      "cell_type": "code",
      "source": [
        "dprice = 1\n",
        "dall_price, dtax = mul_tax_graph.backward(dprice)\n",
        "dapple_price, dorange_price = add_apple_orange_graph.backward(dall_price)\n",
        "dorange, dorange_num = mul_orange_graph.backward(dorange_price)\n",
        "dapple, dapple_num = mul_apple_graph.backward(dapple_price)\n",
        "print('dApple', dapple)\n",
        "print('dApple_num', dapple_num)\n",
        "print('dOrange', dorange)\n",
        "print('dOrange_num', dorange_num)"
      ],
      "metadata": {
        "colab": {
          "base_uri": "https://localhost:8080/"
        },
        "id": "fNS5UmeqJCmd",
        "outputId": "e012a21c-998e-44a9-dc6e-082f4e3e47e7"
      },
      "execution_count": null,
      "outputs": [
        {
          "output_type": "stream",
          "name": "stdout",
          "text": [
            "dApple 2.2\n",
            "dApple_num 110.00000000000001\n",
            "dOrange 3.3000000000000003\n",
            "dOrange_num 165.0\n"
          ]
        }
      ]
    },
    {
      "cell_type": "code",
      "source": [
        "import numpy as np"
      ],
      "metadata": {
        "id": "R8fP7V_VPPdc"
      },
      "execution_count": null,
      "outputs": []
    },
    {
      "cell_type": "code",
      "source": [
        "def celcius_to_fahrenheit(x):\n",
        "    return x * 1.8 + 32"
      ],
      "metadata": {
        "id": "xalKknI5bT3_"
      },
      "execution_count": null,
      "outputs": []
    },
    {
      "cell_type": "code",
      "source": [
        "weight = np.random.uniform(0, 5, 1)\n",
        "print(weight)\n",
        "bias = 0\n",
        "print(bias)\n",
        "data_C = np.arange(1, 100)\n",
        "data_F = celcius_to_fahrenheit(data_C)\n",
        "scaled_data_C = data_C / 100\n",
        "scaled_data_F = data_F / 100\n",
        "print(scaled_data_C)\n",
        "print(scaled_data_F)"
      ],
      "metadata": {
        "colab": {
          "base_uri": "https://localhost:8080/"
        },
        "id": "dgVm1O1abcGP",
        "outputId": "2d8576f0-534d-4978-dd41-0c2334d26da6"
      },
      "execution_count": null,
      "outputs": [
        {
          "output_type": "stream",
          "name": "stdout",
          "text": [
            "[4.30825052]\n",
            "0\n",
            "[0.01 0.02 0.03 0.04 0.05 0.06 0.07 0.08 0.09 0.1  0.11 0.12 0.13 0.14\n",
            " 0.15 0.16 0.17 0.18 0.19 0.2  0.21 0.22 0.23 0.24 0.25 0.26 0.27 0.28\n",
            " 0.29 0.3  0.31 0.32 0.33 0.34 0.35 0.36 0.37 0.38 0.39 0.4  0.41 0.42\n",
            " 0.43 0.44 0.45 0.46 0.47 0.48 0.49 0.5  0.51 0.52 0.53 0.54 0.55 0.56\n",
            " 0.57 0.58 0.59 0.6  0.61 0.62 0.63 0.64 0.65 0.66 0.67 0.68 0.69 0.7\n",
            " 0.71 0.72 0.73 0.74 0.75 0.76 0.77 0.78 0.79 0.8  0.81 0.82 0.83 0.84\n",
            " 0.85 0.86 0.87 0.88 0.89 0.9  0.91 0.92 0.93 0.94 0.95 0.96 0.97 0.98\n",
            " 0.99]\n",
            "[0.338 0.356 0.374 0.392 0.41  0.428 0.446 0.464 0.482 0.5   0.518 0.536\n",
            " 0.554 0.572 0.59  0.608 0.626 0.644 0.662 0.68  0.698 0.716 0.734 0.752\n",
            " 0.77  0.788 0.806 0.824 0.842 0.86  0.878 0.896 0.914 0.932 0.95  0.968\n",
            " 0.986 1.004 1.022 1.04  1.058 1.076 1.094 1.112 1.13  1.148 1.166 1.184\n",
            " 1.202 1.22  1.238 1.256 1.274 1.292 1.31  1.328 1.346 1.364 1.382 1.4\n",
            " 1.418 1.436 1.454 1.472 1.49  1.508 1.526 1.544 1.562 1.58  1.598 1.616\n",
            " 1.634 1.652 1.67  1.688 1.706 1.724 1.742 1.76  1.778 1.796 1.814 1.832\n",
            " 1.85  1.868 1.886 1.904 1.922 1.94  1.958 1.976 1.994 2.012 2.03  2.048\n",
            " 2.066 2.084 2.102]\n"
          ]
        }
      ]
    },
    {
      "cell_type": "code",
      "source": [
        "weight_graph = mul_graph()\n",
        "bias_graph = add_graph()"
      ],
      "metadata": {
        "id": "8Wa940sabt4l"
      },
      "execution_count": null,
      "outputs": []
    },
    {
      "cell_type": "code",
      "source": [
        "weighted_data = weight_graph.forward(weight, scaled_data_C)\n",
        "predict_data = bias_graph.forward(weighted_data, bias)\n",
        "print(predict_data)"
      ],
      "metadata": {
        "colab": {
          "base_uri": "https://localhost:8080/"
        },
        "id": "Lfr657Qqcw71",
        "outputId": "e6533458-4612-4ab2-b30e-214dae764d77"
      },
      "execution_count": null,
      "outputs": [
        {
          "output_type": "stream",
          "name": "stdout",
          "text": [
            "[0.04308251 0.08616501 0.12924752 0.17233002 0.21541253 0.25849503\n",
            " 0.30157754 0.34466004 0.38774255 0.43082505 0.47390756 0.51699006\n",
            " 0.56007257 0.60315507 0.64623758 0.68932008 0.73240259 0.77548509\n",
            " 0.8185676  0.8616501  0.90473261 0.94781511 0.99089762 1.03398012\n",
            " 1.07706263 1.12014513 1.16322764 1.20631014 1.24939265 1.29247515\n",
            " 1.33555766 1.37864017 1.42172267 1.46480518 1.50788768 1.55097019\n",
            " 1.59405269 1.6371352  1.6802177  1.72330021 1.76638271 1.80946522\n",
            " 1.85254772 1.89563023 1.93871273 1.98179524 2.02487774 2.06796025\n",
            " 2.11104275 2.15412526 2.19720776 2.24029027 2.28337277 2.32645528\n",
            " 2.36953778 2.41262029 2.45570279 2.4987853  2.5418678  2.58495031\n",
            " 2.62803281 2.67111532 2.71419783 2.75728033 2.80036284 2.84344534\n",
            " 2.88652785 2.92961035 2.97269286 3.01577536 3.05885787 3.10194037\n",
            " 3.14502288 3.18810538 3.23118789 3.27427039 3.3173529  3.3604354\n",
            " 3.40351791 3.44660041 3.48968292 3.53276542 3.57584793 3.61893043\n",
            " 3.66201294 3.70509544 3.74817795 3.79126045 3.83434296 3.87742546\n",
            " 3.92050797 3.96359047 4.00667298 4.04975548 4.09283799 4.1359205\n",
            " 4.179003   4.22208551 4.26516801]\n"
          ]
        }
      ]
    },
    {
      "cell_type": "code",
      "source": [
        "dout = 1\n",
        "dbias, dbiased_data = bias_graph.backward(dout)\n",
        "dweight, dscaled_data_C = weight_graph.backward(dbiased_data)\n",
        "print(dbias)\n",
        "print(dweight)"
      ],
      "metadata": {
        "colab": {
          "base_uri": "https://localhost:8080/"
        },
        "id": "DuB4jo9qdS1P",
        "outputId": "367853df-ec68-47f9-85d0-c531f8ff17fb"
      },
      "execution_count": null,
      "outputs": [
        {
          "output_type": "stream",
          "name": "stdout",
          "text": [
            "1\n",
            "[0.01 0.02 0.03 0.04 0.05 0.06 0.07 0.08 0.09 0.1  0.11 0.12 0.13 0.14\n",
            " 0.15 0.16 0.17 0.18 0.19 0.2  0.21 0.22 0.23 0.24 0.25 0.26 0.27 0.28\n",
            " 0.29 0.3  0.31 0.32 0.33 0.34 0.35 0.36 0.37 0.38 0.39 0.4  0.41 0.42\n",
            " 0.43 0.44 0.45 0.46 0.47 0.48 0.49 0.5  0.51 0.52 0.53 0.54 0.55 0.56\n",
            " 0.57 0.58 0.59 0.6  0.61 0.62 0.63 0.64 0.65 0.66 0.67 0.68 0.69 0.7\n",
            " 0.71 0.72 0.73 0.74 0.75 0.76 0.77 0.78 0.79 0.8  0.81 0.82 0.83 0.84\n",
            " 0.85 0.86 0.87 0.88 0.89 0.9  0.91 0.92 0.93 0.94 0.95 0.96 0.97 0.98\n",
            " 0.99]\n"
          ]
        }
      ]
    },
    {
      "cell_type": "code",
      "source": [
        "mseGraph = mse_graph()\n",
        "mse = mseGraph.forward(predict_data, scaled_data_F)\n",
        "print(mse)"
      ],
      "metadata": {
        "colab": {
          "base_uri": "https://localhost:8080/"
        },
        "id": "diDOFBj3eDdP",
        "outputId": "40dc74cb-d17b-49d1-82cf-921990546d05"
      },
      "execution_count": null,
      "outputs": [
        {
          "output_type": "stream",
          "name": "stdout",
          "text": [
            "1.3863811840450224\n"
          ]
        }
      ]
    },
    {
      "cell_type": "code",
      "source": [
        "weight_mse_gradient, bias_mse_gradient = mseGraph.backward(scaled_data_C)\n",
        "print(weight_mse_gradient)\n",
        "print(bias_mse_gradient)"
      ],
      "metadata": {
        "colab": {
          "base_uri": "https://localhost:8080/"
        },
        "id": "gofqb63YedjW",
        "outputId": "e4aff105-4685-4359-dd05-37e6661757be"
      },
      "execution_count": null,
      "outputs": [
        {
          "output_type": "stream",
          "name": "stdout",
          "text": [
            "1.3438061755698736\n",
            "1.8682505159344829\n"
          ]
        }
      ]
    },
    {
      "cell_type": "code",
      "source": [
        "learning_rate = 0.1\n",
        "learned_weight = weight - learning_rate \\\n",
        "     * weight_mse_gradient * np.average(dweight)\n",
        "print('before learning weight :', weight)\n",
        "print('after learning weight :', learned_weight)"
      ],
      "metadata": {
        "id": "yO5-XSORe1GO",
        "colab": {
          "base_uri": "https://localhost:8080/"
        },
        "outputId": "f884ba4e-8036-4147-ee3b-5db3083a5a1e"
      },
      "execution_count": null,
      "outputs": [
        {
          "output_type": "stream",
          "name": "stdout",
          "text": [
            "before learning weight : [4.30825052]\n",
            "after learning weight : [4.24106021]\n"
          ]
        }
      ]
    },
    {
      "cell_type": "code",
      "source": [
        "learned_bias = bias - learning_rate * bias_mse_gradient * dbias\n",
        "print('before learning bias :', bias)\n",
        "print('after learning bias :', learned_bias)"
      ],
      "metadata": {
        "colab": {
          "base_uri": "https://localhost:8080/"
        },
        "id": "KQRaSaK9Hiym",
        "outputId": "96ccc145-59aa-4e81-e62f-660eaaca71a4"
      },
      "execution_count": null,
      "outputs": [
        {
          "output_type": "stream",
          "name": "stdout",
          "text": [
            "before learning bias : 0\n",
            "after learning bias : -0.1868250515934483\n"
          ]
        }
      ]
    },
    {
      "cell_type": "code",
      "source": [
        "error_list = []\n",
        "weight_list = []\n",
        "bias_list = []\n",
        "for i in range(1000):\n",
        "    #forward\n",
        "    weighted_data = weight_graph.forward(weight, scaled_data_C)\n",
        "    predicted_data = bias_graph.forward(weighted_data, bias)\n",
        "    #backward\n",
        "    dout = 1\n",
        "    dbias, dbiased_data = bias_graph.backward(dout)\n",
        "    dweight, dscaled_data_C = weight_graph.backward(dbiased_data)\n",
        "    #mse\n",
        "    mse = mseGraph.forward(predicted_data, scaled_data_F)\n",
        "    error_list.append(mse)\n",
        "    weight_mse_gradient, bias_mse_gradient = mseGraph.backward(scaled_data_C)\n",
        "    #learning\n",
        "    weight_list.append(weight)\n",
        "    weight = weight - learning_rate * weight_mse_gradient * np.average(dweight)\n",
        "    bias_list.append(bias)\n",
        "    bias = bias - learning_rate * bias_mse_gradient * dbias\n",
        "weight_list.append(weight)\n",
        "bias_list.append(bias)\n",
        "print(weight)\n",
        "print(bias)"
      ],
      "metadata": {
        "colab": {
          "base_uri": "https://localhost:8080/"
        },
        "id": "EFgVzDj9KOOT",
        "outputId": "f076f315-25dd-4254-c40b-567e225a721d"
      },
      "execution_count": null,
      "outputs": [
        {
          "output_type": "stream",
          "name": "stdout",
          "text": [
            "[1.80161327]\n",
            "0.31916311360466554\n"
          ]
        }
      ]
    },
    {
      "cell_type": "code",
      "source": [
        "print(error_list[-1])"
      ],
      "metadata": {
        "colab": {
          "base_uri": "https://localhost:8080/"
        },
        "id": "FK8c164nVNm7",
        "outputId": "728b1a5d-b85b-4f23-8f88-78fef859c789"
      },
      "execution_count": null,
      "outputs": [
        {
          "output_type": "stream",
          "name": "stdout",
          "text": [
            "2.1658494290619262e-07\n"
          ]
        }
      ]
    },
    {
      "cell_type": "code",
      "source": [
        "import matplotlib.pyplot as plt"
      ],
      "metadata": {
        "id": "M6SH42dDVSuU"
      },
      "execution_count": null,
      "outputs": []
    },
    {
      "cell_type": "code",
      "source": [
        "plt.plot(error_list)\n",
        "plt.show()"
      ],
      "metadata": {
        "colab": {
          "base_uri": "https://localhost:8080/",
          "height": 430
        },
        "id": "LMSwy9BGVh0b",
        "outputId": "f85563f7-3ef9-4e2c-ef85-5569ea3da3c5"
      },
      "execution_count": null,
      "outputs": [
        {
          "output_type": "display_data",
          "data": {
            "text/plain": [
              "<Figure size 640x480 with 1 Axes>"
            ],
            "image/png": "[encoded data removed]"
          },
          "metadata": {}
        }
      ]
    },
    {
      "cell_type": "code",
      "source": [
        "plt.plot(weight_list)"
      ],
      "metadata": {
        "colab": {
          "base_uri": "https://localhost:8080/",
          "height": 448
        },
        "id": "vil_7viNVnab",
        "outputId": "cbf62088-c5ba-408c-b639-12c5fe745025"
      },
      "execution_count": null,
      "outputs": [
        {
          "output_type": "execute_result",
          "data": {
            "text/plain": [
              "[<matplotlib.lines.Line2D at 0x7bff839240a0>]"
            ]
          },
          "metadata": {},
          "execution_count": 321
        },
        {
          "output_type": "display_data",
          "data": {
            "text/plain": [
              "<Figure size 640x480 with 1 Axes>"
            ],
            "image/png": "[encoded data removed]"
          },
          "metadata": {}
        }
      ]
    },
    {
      "cell_type": "code",
      "source": [
        "plt.plot(bias_list)\n",
        "plt.show()"
      ],
      "metadata": {
        "colab": {
          "base_uri": "https://localhost:8080/",
          "height": 430
        },
        "id": "Nwi7p24fV7y8",
        "outputId": "af8f7fed-f28c-434a-d90a-701f0564b81e"
      },
      "execution_count": null,
      "outputs": [
        {
          "output_type": "display_data",
          "data": {
            "text/plain": [
              "<Figure size 640x480 with 1 Axes>"
            ],
            "image/png": "[encoded data removed]"
          },
          "metadata": {}
        }
      ]
    },
    {
      "cell_type": "code",
      "source": [],
      "metadata": {
        "id": "wgEHkiu5WMGa"
      },
      "execution_count": null,
      "outputs": []
    }
  ]
}